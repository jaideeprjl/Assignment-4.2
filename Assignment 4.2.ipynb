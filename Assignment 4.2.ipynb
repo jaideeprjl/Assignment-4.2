{
 "cells": [
  {
   "cell_type": "markdown",
   "metadata": {},
   "source": [
    "Assignment 4.2\n",
    "\n",
    "Problem Statement- 1:\n",
    "Write a Python program using function concept that maps list of words into a list of integers\n",
    "representing the lengths of the corresponding words.\n",
    "Hint: If a list [ ab,cde,erty] is passed on to the python function output should come as [2,3,4]\n",
    "Here 2,3 and 4 are the lengths of the words in the list."
   ]
  },
  {
   "cell_type": "code",
   "execution_count": 40,
   "metadata": {},
   "outputs": [
    {
     "name": "stdout",
     "output_type": "stream",
     "text": [
      "[2, 3, 4]\n"
     ]
    }
   ],
   "source": [
    "def length_of_words(words):\n",
    "    return map(len, words)\n",
    "\n",
    "words = [ 'ab','cde','erty'] \n",
    "print(list(length_of_words(words)))"
   ]
  },
  {
   "cell_type": "markdown",
   "metadata": {},
   "source": [
    "Problem Statement-2:\n",
    "Write a Python function which takes a character (i.e. a string of length 1) and returns True if it is\n",
    "a vowel, False otherwise."
   ]
  },
  {
   "cell_type": "code",
   "execution_count": 41,
   "metadata": {},
   "outputs": [
    {
     "name": "stdout",
     "output_type": "stream",
     "text": [
      "a is a Vowel - True\n",
      "b is a Vowel - False\n"
     ]
    }
   ],
   "source": [
    "def is_vowel(words):\n",
    "    vowels= \"aeiou\"\n",
    "\n",
    "    if words.lower() in vowels:\n",
    "        return True\n",
    "    else:\n",
    "        return False\n",
    "\n",
    "print ('a is a Vowel -' , is_vowel('a'))\n",
    "print ('b is a Vowel -' ,is_vowel('b'))"
   ]
  },
  {
   "cell_type": "code",
   "execution_count": null,
   "metadata": {},
   "outputs": [],
   "source": []
  }
 ],
 "metadata": {
  "kernelspec": {
   "display_name": "Python 3",
   "language": "python",
   "name": "python3"
  },
  "language_info": {
   "codemirror_mode": {
    "name": "ipython",
    "version": 3
   },
   "file_extension": ".py",
   "mimetype": "text/x-python",
   "name": "python",
   "nbconvert_exporter": "python",
   "pygments_lexer": "ipython3",
   "version": "3.6.5"
  }
 },
 "nbformat": 4,
 "nbformat_minor": 2
}
